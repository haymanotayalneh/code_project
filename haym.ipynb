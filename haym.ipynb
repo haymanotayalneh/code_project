{
 "cells": [
  {
   "cell_type": "code",
   "execution_count": 1,
   "id": "1db733de",
   "metadata": {},
   "outputs": [
    {
     "name": "stdout",
     "output_type": "stream",
     "text": [
      "haymanot 18 high school\n"
     ]
    }
   ],
   "source": [
    "name=\"haymanot\"\n",
    "age=18\n",
    "school=\"high school\"\n",
    "\n",
    "print(name,age,school)"
   ]
  },
  {
   "cell_type": "code",
   "execution_count": null,
   "id": "35519566",
   "metadata": {},
   "outputs": [],
   "source": []
  },
  {
   "cell_type": "code",
   "execution_count": 8,
   "id": "efd874ce",
   "metadata": {},
   "outputs": [
    {
     "name": "stdout",
     "output_type": "stream",
     "text": [
      "even\n"
     ]
    }
   ],
   "source": [
    "x=int(input(\" enter a number\"))\n",
    "   \n",
    "   \n",
    "if x%2==0:\n",
    "   print(\"even\")\n"
   ]
  },
  {
   "cell_type": "code",
   "execution_count": null,
   "id": "ab2f9426",
   "metadata": {},
   "outputs": [],
   "source": [
    "x,y=23,13\n",
    "largest=\"largest number'\""
   ]
  },
  {
   "cell_type": "code",
   "execution_count": null,
   "metadata": {},
   "outputs": [
    {
     "name": "stdout",
     "output_type": "stream",
     "text": [
      "\n",
      "🧪 Element Information:\n",
      "Name: Helium\n",
      "Symbol: He\n",
      "Atomic Mass: 4.0026\n"
     ]
    }
   ],
   "source": [
    "le = {\n",
    "    1: {\"Name\": \"Hydrogen\", \"Symbol\": \"H\", \"Atomic Mass\": 1.008},\n",
    "    2: {\"Name\": \"Helium\", \"Symbol\": \"He\", \"Atomic Mass\": 4.0026},\n",
    "    3: {\"Name\": \"Lithium\", \"Symbol\": \"Li\", \"Atomic Mass\": 6.94},\n",
    "    4: {\"Name\": \"Beryllium\", \"Symbol\": \"Be\", \"Atomic Mass\": 9.0122},\n",
    "    5: {\"Name\": \"Boron\", \"Symbol\": \"B\", \"Atomic Mass\": 10.81},\n",
    "    6: {\"Name\": \"Carbon\", \"Symbol\": \"C\", \"Atomic Mass\": 12.011},\n",
    "    7: {\"periodic_tabName\": \"Nitrogen\", \"Symbol\": \"N\", \"Atomic Mass\": 14.007},\n",
    "    8: {\"Name\": \"Oxygen\", \"Symbol\": \"O\", \"Atomic Mass\": 15.999},\n",
    "    9: {\"Name\": \"Fluorine\", \"Symbol\": \"F\", \"Atomic Mass\": 18.998},\n",
    "    10: {\"Name\": \"Neon\", \"Symbol\": \"Ne\", \"Atomic Mass\": 20.180},\n",
    "    11: {\"Name\": \"Sodium\", \"Symbol\": \"Na\", \"Atomic Mass\": 22.990},\n",
    "    12: {\"Name\": \"Magnesium\", \"Symbol\": \"Mg\", \"Atomic Mass\": 24.305},\n",
    "    13: {\"Name\": \"Aluminium\", \"Symbol\": \"Al\", \"Atomic Mass\": 26.982},\n",
    "    14: {\"Name\": \"Silicon\", \"Symbol\": \"Si\", \"Atomic Mass\": 28.085},\n",
    "    15: {\"Name\": \"Phosphorus\", \"Symbol\": \"P\", \"Atomic Mass\": 30.974},\n",
    "    16: {\"Name\": \"Sulfur\", \"Symbol\": \"S\", \"Atomic Mass\": 32.06},\n",
    "    17: {\"Name\": \"Chlorine\", \"Symbol\": \"Cl\", \"Atomic Mass\": 35.45},\n",
    "    18: {\"Name\": \"Argon\", \"Symbol\": \"Ar\", \"Atomic Mass\": 39.948},\n",
    "    19: {\"Name\": \"Potassium\", \"Symbol\": \"K\", \"Atomic Mass\": 39.098},\n",
    "    20: {\"Name\": \"Calcium\", \"Symbol\": \"Ca\", \"Atomic Mass\": 40.078},\n",
    "    21: {\"Name\": \"Scandium\", \"Symbol\": \"Sc\", \"Atomic Mass\": 44.956},\n",
    "    22: {\"Name\": \"Titanium\", \"Symbol\": \"Ti\", \"Atomic Mass\": 47.867},\n",
    "    23: {\"Name\": \"Vanadium\", \"Symbol\": \"V\", \"Atomic Mass\": 50.942},\n",
    "    24: {\"Name\": \"Chromium\", \"Symbol\": \"Cr\", \"Atomic Mass\": 51.996},\n",
    "    25: {\"Name\": \"Manganese\", \"Symbol\": \"Mn\", \"Atomic Mass\": 54.938},\n",
    "    26: {\"Name\": \"Iron\", \"Symbol\": \"Fe\", \"Atomic Mass\": 55.845},\n",
    "    27: {\"Name\": \"Cobalt\", \"Symbol\": \"Co\", \"Atomic Mass\": 58.933},\n",
    "    28: {\"Name\": \"Nickel\", \"Symbol\": \"Ni\", \"Atomic Mass\": 58.693},\n",
    "    29: {\"Name\": \"Copper\", \"Symbol\": \"Cu\", \"Atomic Mass\": 63.546},\n",
    "    30: {\"Name\": \"Zinc\", \"Symbol\": \"Zn\", \"Atomic Mass\": 65.38},\n",
    "    31: {\"Name\": \"Gallium\", \"Symbol\": \"Ga\", \"Atomic Mass\": 69.723},\n",
    "    32: {\"Name\": \"Germanium\", \"Symbol\": \"Ge\", \"Atomic Mass\": 72.630},\n",
    "    33: {\"Name\": \"Arsenic\", \"Symbol\": \"As\", \"Atomic Mass\": 74.922},\n",
    "    34: {\"Name\": \"Selenium\", \"Symbol\": \"Se\", \"Atomic Mass\": 78.971},\n",
    "    35: {\"Name\": \"Bromine\", \"Symbol\": \"Br\", \"Atomic Mass\": 79.904},\n",
    "    36: {\"Name\": \"Krypton\", \"Symbol\": \"Kr\", \"Atomic Mass\": 83.798},\n",
    "    37: {\"Name\": \"Rubidium\", \"Symbol\": \"Rb\", \"Atomic Mass\": 85.468},\n",
    "    38: {\"Name\": \"Strontium\", \"Symbol\": \"Sr\", \"Atomic Mass\": 87.62},\n",
    "    39: {\"Name\": \"Yttrium\", \"Symbol\": \"Y\", \"Atomic Mass\": 88.906},\n",
    "    40: {\"Name\": \"Zirconium\", \"Symbol\": \"Zr\", \"Atomic Mass\": 91.224},\n",
    "    41: {\"Name\": \"Niobium\", \"Symbol\": \"Nb\", \"Atomic Mass\": 92.906},\n",
    "    42: {\"Name\": \"Molybdenum\", \"Symbol\": \"Mo\", \"Atomic Mass\": 95.95},\n",
    "    43: {\"Name\": \"Technetium\", \"Symbol\": \"Tc\", \"Atomic Mass\": 98},\n",
    "    44: {\"Name\": \"Ruthenium\", \"Symbol\": \"Ru\", \"Atomic Mass\": 101.07},\n",
    "    45: {\"Name\": \"Rhodium\", \"Symbol\": \"Rh\", \"Atomic Mass\": 102.91},\n",
    "    46: {\"Name\": \"Palladium\", \"Symbol\": \"Pd\", \"Atomic Mass\": 106.42},\n",
    "    47: {\"Name\": \"Silver\", \"Symbol\": \"Ag\", \"Atomic Mass\": 107.87},\n",
    "    48: {\"Name\": \"Cadmium\", \"Symbol\": \"Cd\", \"Atomic Mass\": 112.41},\n",
    "    49: {\"Name\": \"Indium\", \"Symbol\": \"In\", \"Atomic Mass\": 114.82},\n",
    "    50: {\"Name\": \"Tin\", \"Symbol\": \"Sn\", \"Atomic Mass\": 118.71},\n",
    "    51: {\"Name\": \"Antimony\", \"Symbol\": \"Sb\", \"Atomic Mass\": 121.76},\n",
    "    52: {\"Name\": \"Tellurium\", \"Symbol\": \"Te\", \"Atomic Mass\": 127.60},\n",
    "    53: {\"Name\": \"Iodine\", \"Symbol\": \"I\", \"Atomic Mass\": 126.90},\n",
    "    54: {\"Name\": \"Xenon\", \"Symbol\": \"Xe\", \"Atomic Mass\": 131.29},\n",
    "    55: {\"Name\": \"Cesium\", \"Symbol\": \"Cs\", \"Atomic Mass\": 132.91},\n",
    "    56: {\"Name\": \"Barium\", \"Symbol\": \"Ba\", \"Atomic Mass\": 137.33},\n",
    "    57: {\"Name\": \"Lanthanum\", \"Symbol\": \"La\", \"Atomic Mass\": 138.91},\n",
    "    58: {\"Name\": \"Cerium\", \"Symbol\": \"Ce\", \"Atomic Mass\": 140.12},\n",
    "    59: {\"Name\": \"Praseodymium\", \"Symbol\": \"Pr\", \"Atomic Mass\": 140.91},\n",
    "    60: {\"Name\": \"Neodymium\", \"Symbol\": \"Nd\", \"Atomic Mass\": 144.24},\n",
    "    61: {\"Name\": \"Promethium\", \"Symbol\": \"Pm\", \"Atomic Mass\": 145},\n",
    "    62: {\"Name\": \"Samarium\", \"Symbol\": \"Sm\", \"Atomic Mass\": 150.36},\n",
    "    63: {\"Name\": \"Europium\", \"Symbol\": \"Eu\", \"Atomic Mass\": 151.96},\n",
    "    64: {\"Name\": \"Gadolinium\", \"Symbol\": \"Gd\", \"Atomic Mass\": 157.25},\n",
    "    65: {\"Name\": \"Terbium\", \"Symbol\": \"Tb\", \"Atomic Mass\": 158.93},\n",
    "    66: {\"Name\": \"Dysprosium\", \"Symbol\": \"Dy\", \"Atomic Mass\": 162.50},\n",
    "    67: {\"Name\": \"Holmium\", \"Symbol\": \"Ho\", \"Atomic Mass\": 164.93},\n",
    "    68: {\"Name\": \"Erbium\", \"Symbol\": \"Er\", \"Atomic Mass\": 167.26},\n",
    "    69: {\"Name\": \"Thulium\", \"Symbol\": \"Tm\", \"Atomic Mass\": 168.93},\n",
    "    70: {\"Name\": \"Ytterbium\", \"Symbol\": \"Yb\", \"Atomic Mass\": 173.05},\n",
    "    71: {\"Name\": \"Lutetium\", \"Symbol\": \"Lu\", \"Atomic Mass\": 174.97},\n",
    "    72: {\"Name\": \"Hafnium\", \"Symbol\": \"Hf\", \"Atomic Mass\": 178.49},\n",
    "    73: {\"Name\": \"Tantalum\", \"Symbol\": \"Ta\", \"Atomic Mass\": 180.95},\n",
    "    74: {\"Name\": \"Tungsten\", \"Symbol\": \"W\", \"Atomic mass\" : 183.84},\n",
    "    75: {\"Name\": \"Rhenium\", \"Symbol\": \"Re\", \"Atomic Mass\": 186.21},\n",
    "    76: {\"Name\": \"Osmium\", \"Symbol\": \"Os\", \"Atomic Mass\": 190.23},\n",
    "    77: {\"Name\": \"Iridium\", \"Symbol\": \"Ir\", \"Atomic Mass\": 192.22},\n",
    "    78: {\"Name\": \"Platinum\", \"Symbol\": \"Pt\", \"Atomic Mass\": 195.08},\n",
    "    79: {\"Name\": \"Gold\", \"Symbol\": \"Au\", \"Atomic Mass\": 196.97},\n",
    "    80: {\"Name\": \"Mercury\", \"Symbol\": \"Hg\", \"Atomic Mass\": 200.59},\n",
    "    81: {\"Name\": \"Thallium\", \"Symbol\": \"Tl\", \"Atomic Mass\": 204.38},\n",
    "    82: {\"Name\": \"Lead\", \"Symbol\": \"Pb\", \"Atomic Mass\": 207.2},\n",
    "    83: {\"Name\": \"Bismuth\", \"Symbol\": \"Bi\", \"Atomic Mass\": 208.98},\n",
    "    84: {\"Name\": \"Polonium\", \"Symbol\": \"Po\", \"Atomic Mass\": 209},\n",
    "    85: {\"Name\": \"Astatine\", \"Symbol\": \"At\", \"Atomic Mass\": 210},\n",
    "    86: {\"Name\": \"Radon\", \"Symbol\": \"Rn\", \"Atomic Mass\": 222},\n",
    "    87: {\"Name\": \"Francium\", \"Symbol\": \"Fr\", \"Atomic Mass\": 223},\n",
    "    88: {\"Name\": \"Radium\", \"Symbol\": \"Ra\", \"Atomic Mass\": 226},\n",
    "    89: {\"Name\": \"Actinium\", \"Symbol\": \"Ac\", \"Atomic Mass\": 227},\n",
    "    90: {\"Name\": \"Thorium\", \"Symbol\": \"Th\", \"Atomic Mass\": 232.04},\n",
    "    91: {\"Name\": \"Protactinium\", \"Symbol\": \"Pa\", \"Atomic Mass\": 231.04},\n",
    "    92: {\"Name\": \"Uranium\", \"Symbol\": \"U\", \"Atomic Mass\": 238.03},\n",
    "    93: {\"Name\": \"Neptunium\", \"Symbol\": \"Np\", \"Atomic Mass\": 237},\n",
    "    94: {\"Name\": \"Plutonium\", \"Symbol\": \"Pu\", \"Atomic Mass\": 244},\n",
    "    95: {\"Name\": \"Americium\", \"Symbol\": \"Am\", \"Atomic Mass\": 243},\n",
    "    96: {\"Name\": \"Curium\", \"Symbol\": \"Cm\", \"Atomic Mass\": 247},\n",
    "    97: {\"Name\": \"Berkelium\", \"Symbol\": \"Bk\", \"Atomic Mass\": 247},\n",
    "    98: {\"Name\": \"Californium\", \"Symbol\": \"Cf\", \"Atomic Mass\": 251},\n",
    "    99: {\"Name\": \"Einsteinium\", \"Symbol\": \"Es\", \"Atomic Mass\": 252},\n",
    "    100: {\"Name\": \"Fermium\", \"Symbol\": \"Fm\", \"Atomic Mass\": 257},\n",
    "    101: {\"Name\": \"Mendelevium\", \"Symbol\": \"Md\", \"Atomic Mass\": 258},\n",
    "    102: {\"Name\": \"Nobelium\", \"Symbol\": \"No\", \"Atomic Mass\": 259},\n",
    "    103: {\"Name\": \"Lawrencium\", \"Symbol\": \"Lr\", \"Atomic Mass\": 266},\n",
    "    104: {\"Name\": \"Rutherfordium\", \"Symbol\": \"Rf\", \"Atomic Mass\": 267},\n",
    "    105: {\"Name\": \"Dubnium\", \"Symbol\": \"Db\", \"Atomic Mass\": 268},\n",
    "    106: {\"Name\": \"Seaborgium\", \"Symbol\": \"Sg\", \"Atomic Mass\": 269},\n",
    "    107: {\"Name\": \"Bohrium\", \"Symbol\": \"Bh\", \"Atomic Mass\": 270},\n",
    "    108: {\"Name\": \"Hassium\", \"Symbol\": \"Hs\", \"Atomic Mass\": 277},\n",
    "    109: {\"Name\": \"Meitnerium\", \"Symbol\": \"Mt\", \"Atomic Mass\": 278},\n",
    "    110: {\"Name\": \"Darmstadtium\", \"Symbol\": \"Ds\", \"Atomic Mass\": 281},\n",
    "    111: {\"Name\": \"Roentgenium\", \"Symbol\": \"Rg\", \"Atomic Mass\": 282},\n",
    "    112: {\"Name\": \"Copernicium\", \"Symbol\": \"Cn\", \"Atomic Mass\": 285},\n",
    "    113: {\"Name\": \"Nihonium\", \"Symbol\": \"Nh\", \"Atomic Mass\": 286},\n",
    "    114: {\"Name\": \"Flerovium\", \"Symbol\": \"Fl\", \"Atomic Mass\": 289},\n",
    "    115: {\"Name\": \"Moscovium\", \"Symbol\": \"Mc\", \"Atomic Mass\": 290},\n",
    "    116: {\"Name\": \"Livermorium\", \"Symbol\": \"Lv\", \"Atomic Mass\": 293},\n",
    "    117: {\"Name\": \"Tennessine\", \"Symbol\": \"Ts\", \"Atomic Mass\": 294},\n",
    "    118: {\"Name\": \"Oganesson\", \"Symbol\": \"Og\", \"Atomic Mass\": 294}\n",
    "}\n",
    "try:\n",
    "    atomic_number = int(input(\"🔍 Enter atomic number (1–118): \"))\n",
    "    if atomic_number in periodic_table:\n",
    "        element = periodic_table[atomic_number]\n",
    "        print(\"\\n🧪 Element Information:\")\n",
    "        print(f\"Name: {element['Name']}\")\n",
    "        print(f\"Symbol: {element['Symbol']}\")\n",
    "        print(f\"Atomic Mass: {element['Atomic Mass']}\")\n",
    "    else:\n",
    "        print(\"⚠️ Invalid atomic number. Please enter a number between 1 and 118.\")\n",
    "except ValueError:\n",
    "    print(\"❌ Please enter a valid integer.\")\n",
    "   "
   ]
  }
 ],
 "metadata": {
  "kernelspec": {
   "display_name": "Python 3",
   "language": "python",
   "name": "python3"
  },
  "language_info": {
   "codemirror_mode": {
    "name": "ipython",
    "version": 3
   },
   "file_extension": ".py",
   "mimetype": "text/x-python",
   "name": "python",
   "nbconvert_exporter": "python",
   "pygments_lexer": "ipython3",
   "version": "3.13.5"
  }
 },
 "nbformat": 4,
 "nbformat_minor": 5
}
